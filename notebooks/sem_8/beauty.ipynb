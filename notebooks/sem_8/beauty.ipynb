{
 "cells": [
  {
   "cell_type": "markdown",
   "metadata": {},
   "source": [
    "# Привлекательность и уровень заработной платы\n",
    "## Постановка задачи\n",
    "По 1260 опрошенным имеются следующие данные:\n",
    "\n",
    "* `wage` - заработная плата за час работы, $;\n",
    "* `exper` - опыт работы, лет;\n",
    "* `educ` - образование, лет;\n",
    "* `looks` - внешняя привлекательность, в баллах от 1 до 5;\n",
    "* бинарные признаки: \n",
    "    * `female` - пол, \n",
    "    * `married` - семейное положение, \n",
    "    * `goodhlth` - состояние здоровья (хорошее/плохое), \n",
    "    * `union` - членство в профсоюзе, \n",
    "    * `black` - цвет кожи (белый/чёрный), \n",
    "    * `service` - занятость в сфере обслуживания (да/нет).\n",
    "\n",
    "Требуется оценить влияние внешней привлекательности на уровень заработка с учётом всех остальных факторов.\n"
   ]
  },
  {
   "cell_type": "markdown",
   "metadata": {},
   "source": [
    "## Импорты и загрузка данных"
   ]
  },
  {
   "cell_type": "code",
   "execution_count": null,
   "metadata": {},
   "outputs": [],
   "source": [
    "import numpy as np\n",
    "import matplotlib.pylab as plt\n",
    "%matplotlib inline\n",
    "import pandas as pd\n",
    "import scipy.stats as st\n",
    "import seaborn as sns"
   ]
  },
  {
   "cell_type": "code",
   "execution_count": null,
   "metadata": {},
   "outputs": [],
   "source": [
    "data = pd.read_csv('./beauty.csv', delimiter=';')\n",
    "data.head()"
   ]
  },
  {
   "cell_type": "code",
   "execution_count": null,
   "metadata": {},
   "outputs": [],
   "source": [
    "data.columns"
   ]
  },
  {
   "cell_type": "code",
   "execution_count": null,
   "metadata": {},
   "outputs": [],
   "source": [
    "new_cols = list(data.columns)\n",
    "new_cols[0] = 'wage'\n",
    "data.rename(columns=dict(zip(data.columns, new_cols)), inplace=True)\n",
    "data.columns"
   ]
  },
  {
   "cell_type": "markdown",
   "metadata": {},
   "source": [
    "Попарные диаграммы рассеяния всех количественных признаков: "
   ]
  },
  {
   "cell_type": "code",
   "execution_count": null,
   "metadata": {},
   "outputs": [],
   "source": [
    "sns.pairplot(data[['wage', 'exper', 'educ', 'looks']])"
   ]
  },
  {
   "cell_type": "markdown",
   "metadata": {},
   "source": [
    "## Предобработка\n",
    "\n",
    "Посмотрим на распределение оценок привлекательности: "
   ]
  },
  {
   "cell_type": "code",
   "execution_count": null,
   "metadata": {},
   "outputs": [],
   "source": [
    "_ = plt.hist(data['looks'])"
   ]
  },
  {
   "cell_type": "markdown",
   "metadata": {},
   "source": [
    "В группах looks=1 и looks=5 слишком мало наблюдений. Превратим признак looks в категориальный и закодируем с помощью фиктивных переменных:\n",
    "\n"
   ]
  },
  {
   "cell_type": "code",
   "execution_count": null,
   "metadata": {},
   "outputs": [],
   "source": [
    "data['below_avg'] = data['looks'].apply(lambda x: 1 if x < 3 else 0)\n",
    "data['above_avg'] = data['looks'].apply(lambda x: 1 if x > 3 else 0)\n",
    "looks = data.looks.copy()\n",
    "data.drop(columns='looks', inplace=True)\n",
    "\n",
    "data.head()"
   ]
  },
  {
   "cell_type": "markdown",
   "metadata": {},
   "source": [
    "Распределение значений отклика:"
   ]
  },
  {
   "cell_type": "code",
   "execution_count": null,
   "metadata": {},
   "outputs": [],
   "source": [
    "plt.figure(figsize=(16, 7))\n",
    "plt.subplot(121)\n",
    "data['wage'].plot.hist()\n",
    "plt.xlabel('wage', fontsize=14)\n",
    "\n",
    "plt.subplot(122)\n",
    "np.log(data['wage']).plot.hist()\n",
    "plt.xlabel('Log wage', fontsize=14)"
   ]
  },
  {
   "cell_type": "markdown",
   "metadata": {},
   "source": [
    "Уберем выброс"
   ]
  },
  {
   "cell_type": "code",
   "execution_count": null,
   "metadata": {},
   "outputs": [],
   "source": [
    "data = data[data['wage'] < 70]"
   ]
  },
  {
   "cell_type": "markdown",
   "metadata": {},
   "source": [
    "## Модель 0\n",
    "\n",
    "Просто построим линейную регрессию зарплаты от всех признаков"
   ]
  },
  {
   "cell_type": "code",
   "execution_count": null,
   "metadata": {},
   "outputs": [],
   "source": [
    "feat_names = [f for f in data.columns if f not in ['wage']]\n",
    "features = data[feat_names]\n",
    "formula0 = ' '.join(['wage ~', \n",
    "                    ' + '.join([f for f in feat_names])])\n",
    "formula0"
   ]
  },
  {
   "cell_type": "code",
   "execution_count": null,
   "metadata": {},
   "outputs": [],
   "source": [
    "import statsmodels.api as sm\n",
    "model0 = sm.OLS.from_formula(formula0, data).fit()\n",
    "model0.summary()"
   ]
  },
  {
   "cell_type": "markdown",
   "metadata": {},
   "source": [
    "#### Проанализируем ошибки"
   ]
  },
  {
   "cell_type": "code",
   "execution_count": null,
   "metadata": {},
   "outputs": [],
   "source": [
    "plt.figure(figsize=(16, 7))\n",
    "plt.subplot(121)\n",
    "st.probplot(model0.resid, plot=plt)\n",
    "\n",
    "plt.subplot(122)\n",
    "model0.resid.plot.hist()\n",
    "plt.xlabel('Residuals', fontsize=14)"
   ]
  },
  {
   "cell_type": "markdown",
   "metadata": {},
   "source": [
    "Можем воспользоваться преобразованием Бокса-Кокса?"
   ]
  },
  {
   "cell_type": "code",
   "execution_count": null,
   "metadata": {},
   "outputs": [],
   "source": [
    "max(data['wage']) / min(data['wage'])"
   ]
  },
  {
   "cell_type": "markdown",
   "metadata": {},
   "source": [
    "$\\frac{max y}{min y} \\approx 40>10$, поэтому да.\n",
    "\n",
    "Возьмём $λ=0$, то есть, будем строить регрессию логарифма отклика."
   ]
  },
  {
   "cell_type": "code",
   "execution_count": null,
   "metadata": {},
   "outputs": [],
   "source": [
    "log_wage = st.boxcox(data['wage'], 0)\n",
    "old_columns = list(data.columns)\n",
    "data1 = data.copy()\n",
    "data1['log_wage'] = log_wage"
   ]
  },
  {
   "cell_type": "code",
   "execution_count": null,
   "metadata": {},
   "outputs": [],
   "source": [
    "plt.hist(log_wage)\n",
    "plt.xlabel('Log wage', fontsize=14)"
   ]
  },
  {
   "cell_type": "markdown",
   "metadata": {},
   "source": [
    "## Модель 1\n",
    "\n",
    "Построим линейную модель зависимости логарифма заработка по всем признакам. Проверим остатки на нормальность."
   ]
  },
  {
   "cell_type": "code",
   "execution_count": null,
   "metadata": {},
   "outputs": [],
   "source": [
    "features = data1[feat_names]\n",
    "formula1 = ' '.join(['log_wage ~', \n",
    "                    ' + '.join([f for f in feat_names])])\n",
    "print(formula1)"
   ]
  },
  {
   "cell_type": "code",
   "execution_count": null,
   "metadata": {},
   "outputs": [],
   "source": [
    "model1 = sm.OLS.from_formula(formula1, data1).fit()\n",
    "model1.summary()"
   ]
  },
  {
   "cell_type": "code",
   "execution_count": null,
   "metadata": {},
   "outputs": [],
   "source": [
    "plt.figure(figsize=(16, 7))\n",
    "plt.subplot(121)\n",
    "st.probplot(model1.resid, plot=plt)\n",
    "\n",
    "plt.subplot(122)\n",
    "model1.resid.plot.hist()\n",
    "_ = plt.xlabel('Residuals', fontsize=14)"
   ]
  },
  {
   "cell_type": "markdown",
   "metadata": {},
   "source": [
    "Больше похоже на нормальное"
   ]
  },
  {
   "cell_type": "markdown",
   "metadata": {},
   "source": [
    "### Проверка гипотез по остаткам"
   ]
  },
  {
   "cell_type": "code",
   "execution_count": null,
   "metadata": {},
   "outputs": [],
   "source": [
    "from statsmodels.stats.diagnostic import het_breuschpagan\n",
    "print(f'Нормальность ошибок: {st.shapiro(model1.resid)}')\n",
    "print(f'Равенство распределений: {st.wilcoxon(model1.resid)}')\n",
    "print(f'Гомоскедастичность: {het_breuschpagan(model1.resid, features)}')"
   ]
  },
  {
   "cell_type": "markdown",
   "metadata": {},
   "source": [
    "### Рассмотрим зависимость от опыта и образования (самое очевидное)"
   ]
  },
  {
   "cell_type": "code",
   "execution_count": null,
   "metadata": {},
   "outputs": [],
   "source": [
    "_ = sns.pairplot(pd.DataFrame({\n",
    "    'exper': features['exper'], \n",
    "    'educ': features['educ'], \n",
    "    'residuals': model1.resid\n",
    "}))"
   ]
  },
  {
   "cell_type": "markdown",
   "metadata": {},
   "source": [
    "Есть ощущение, что `exper` распределены квадратично.\n",
    "\n",
    "Взглянем более подробно:"
   ]
  },
  {
   "cell_type": "code",
   "execution_count": null,
   "metadata": {},
   "outputs": [],
   "source": [
    "sns.residplot(features['exper'], \n",
    "              model1.resid,  \n",
    "              lowess=True, \n",
    "              scatter_kws={'alpha': 0.5}, \n",
    "              line_kws={'color': 'red', 'lw': 1, 'alpha': 0.8})\n",
    "_ = plt.ylabel('residuals')"
   ]
  },
  {
   "cell_type": "markdown",
   "metadata": {},
   "source": [
    "## Модель 2\n",
    "\n",
    "Добавим в модель 1 квадрат опыта работы."
   ]
  },
  {
   "cell_type": "code",
   "execution_count": null,
   "metadata": {},
   "outputs": [],
   "source": [
    "exper2 = features['exper']**2\n",
    "old_columns = list(data1.columns)\n",
    "data2 = data1.copy()\n",
    "data2['exper2'] = exper2\n",
    "data2.head()"
   ]
  },
  {
   "cell_type": "code",
   "execution_count": null,
   "metadata": {},
   "outputs": [],
   "source": [
    "feat_names += ['exper2']"
   ]
  },
  {
   "cell_type": "code",
   "execution_count": null,
   "metadata": {},
   "outputs": [],
   "source": [
    "features = data2[feat_names]\n",
    "formula2 = ' '.join(['log_wage ~', \n",
    "                    ' + '.join([f for f in feat_names])])\n",
    "print(formula2)"
   ]
  },
  {
   "cell_type": "code",
   "execution_count": null,
   "metadata": {},
   "outputs": [],
   "source": [
    "model2 = sm.OLS.from_formula(formula2, data2).fit()\n",
    "model2.summary()"
   ]
  },
  {
   "cell_type": "code",
   "execution_count": null,
   "metadata": {},
   "outputs": [],
   "source": [
    "gridsize = (2, 2)\n",
    "fig = plt.figure(figsize=(16, 14))\n",
    "ax1 = plt.subplot2grid(gridsize, (0, 0))\n",
    "ax2 = plt.subplot2grid(gridsize, (0, 1))\n",
    "ax3 = plt.subplot2grid(gridsize, (1, 0))\n",
    "ax4 = plt.subplot2grid(gridsize, (1, 1))\n",
    "st.probplot(model2.resid, plot=ax1)\n",
    "\n",
    "model2.resid.plot.hist(ax=ax2)\n",
    "ax2.set_xlabel('Residuals')\n",
    "\n",
    "sns.residplot(features['exper'], \n",
    "              model2.resid,\n",
    "              lowess=True, \n",
    "              scatter_kws={'alpha': 0.5}, \n",
    "              line_kws={'color': 'red', 'lw': 1, 'alpha': 0.8},\n",
    "              ax=ax3)\n",
    "ax3.set_ylabel('residuals')\n",
    "sns.residplot(features['exper2'], \n",
    "              model2.resid,\n",
    "              lowess=True, \n",
    "              scatter_kws={'alpha': 0.5}, \n",
    "              line_kws={'color': 'red', 'lw': 1, 'alpha': 0.8},\n",
    "              ax=ax4)\n",
    "_ = ax4.set_ylabel('residuals')"
   ]
  },
  {
   "cell_type": "markdown",
   "metadata": {},
   "source": [
    "Квадратичная зависимость ушла"
   ]
  },
  {
   "cell_type": "markdown",
   "metadata": {},
   "source": [
    "### Проверка гипотез по остаткам"
   ]
  },
  {
   "cell_type": "code",
   "execution_count": null,
   "metadata": {},
   "outputs": [],
   "source": [
    "print(f'Нормальность ошибок: {st.shapiro(model2.resid)}')\n",
    "print(f'Равенство распределений: {st.wilcoxon(model2.resid)}')\n",
    "print(f'Гомоскедастичность: {het_breuschpagan(model2.resid, features)}')"
   ]
  },
  {
   "cell_type": "markdown",
   "metadata": {},
   "source": [
    "Остатки всё еще ненормальны и гетероскедастичны"
   ]
  },
  {
   "cell_type": "markdown",
   "metadata": {},
   "source": [
    "Незначимые признаки: `goodhlth`, `black`, `married`, `above_avg`. Прежде, чем удалять лишние признаки, проверим, не входят ли они в значимые попарные взаимодействия:\n",
    "\n"
   ]
  },
  {
   "cell_type": "code",
   "execution_count": null,
   "metadata": {},
   "outputs": [],
   "source": [
    "formula = [formula2]\n",
    "formula"
   ]
  },
  {
   "cell_type": "code",
   "execution_count": null,
   "metadata": {},
   "outputs": [],
   "source": [
    "for f1 in range(len(feat_names)):\n",
    "    for f2 in range(f1 + 1, len(feat_names)):\n",
    "        # ╰( ͡° ͜ʖ ͡° )-──☆*:・ﾟваш код\n",
    "formula = ' + '.join(formula)\n",
    "formula"
   ]
  },
  {
   "cell_type": "code",
   "execution_count": null,
   "metadata": {},
   "outputs": [],
   "source": [
    "model_all = sm.OLS.from_formula(formula, data2).fit()\n",
    "\n",
    "anova = sm.stats.anova_lm(model_all)\n",
    "bad_names = []\n",
    "for id, p in enumerate(anova['PR(>F)']):\n",
    "    if p < 0.05:\n",
    "        print(anova.iloc[id].name, p)\n",
    "    else:\n",
    "        bad_names.append(anova.iloc[id].name)"
   ]
  },
  {
   "cell_type": "markdown",
   "metadata": {},
   "source": [
    "Визуальный анализ остатков не показывает никаких существенных особенностей: "
   ]
  },
  {
   "cell_type": "code",
   "execution_count": null,
   "metadata": {},
   "outputs": [],
   "source": [
    "_ = sns.pairplot(pd.DataFrame({\n",
    "    'exper': features['exper'], \n",
    "    'exper2': features['exper2'],\n",
    "    'educ': features['educ'], \n",
    "    'residuals': model_all.resid\n",
    "}))"
   ]
  },
  {
   "cell_type": "code",
   "execution_count": null,
   "metadata": {},
   "outputs": [],
   "source": [
    "plt.figure(figsize=(16, 7))\n",
    "plt.subplot(121)\n",
    "_ = st.probplot(model_all.resid, plot=plt)\n",
    "\n",
    "plt.subplot(122)\n",
    "_ = st.probplot(model2.resid, plot=plt)"
   ]
  },
  {
   "cell_type": "markdown",
   "metadata": {},
   "source": [
    "# Модель 3\n",
    "Удалим из модели 2 незначимые признаки (`goodhlth`, `black`, `married`) и добавим межфакторное взаимодействие пола и опыта работы, при этом оставим `above_avg`, так как мы хотим оценить влияние внешней привлекательности на зарплату"
   ]
  },
  {
   "cell_type": "code",
   "execution_count": null,
   "metadata": {},
   "outputs": [],
   "source": [
    "bad_feats = ['goodhlth', 'black', 'married']\n",
    "formula3 = ' '.join(['log_wage ~', \n",
    "                    ' + '.join([f for f in features if f not in bad_feats] + ['exper:female'])])\n",
    "print(formula3)"
   ]
  },
  {
   "cell_type": "code",
   "execution_count": null,
   "metadata": {},
   "outputs": [],
   "source": [
    "model3 = sm.OLS.from_formula(formula3, data=data2).fit()\n",
    "model3.summary()"
   ]
  },
  {
   "cell_type": "markdown",
   "metadata": {},
   "source": [
    "### Проверка гипотез по остаткам"
   ]
  },
  {
   "cell_type": "code",
   "execution_count": null,
   "metadata": {},
   "outputs": [],
   "source": [
    "print(st.shapiro(model3.resid))\n",
    "print(st.wilcoxon(model3.resid))"
   ]
  },
  {
   "cell_type": "code",
   "execution_count": null,
   "metadata": {},
   "outputs": [],
   "source": [
    "print(st.shapiro(model2.resid))\n",
    "print(st.wilcoxon(model3.resid))"
   ]
  },
  {
   "cell_type": "markdown",
   "metadata": {},
   "source": [
    "Значимы все признаки, кроме индикатора привлекательности выше среднего.\n",
    "\n",
    "Визуальный анализ остатков не показывает никаких существенных особенностей: "
   ]
  },
  {
   "cell_type": "code",
   "execution_count": null,
   "metadata": {},
   "outputs": [],
   "source": [
    "_ = sns.pairplot(pd.DataFrame({\n",
    "    'exper': features['exper'], \n",
    "    'educ': features['educ'], \n",
    "    'residuals': model3.resid\n",
    "}))"
   ]
  },
  {
   "cell_type": "code",
   "execution_count": null,
   "metadata": {},
   "outputs": [],
   "source": [
    "st.probplot(model3.resid, plot=plt)"
   ]
  },
  {
   "cell_type": "code",
   "execution_count": null,
   "metadata": {},
   "outputs": [],
   "source": [
    "model1.summary()"
   ]
  },
  {
   "cell_type": "code",
   "execution_count": null,
   "metadata": {},
   "outputs": [],
   "source": [
    "model2.summary()"
   ]
  },
  {
   "cell_type": "code",
   "execution_count": null,
   "metadata": {},
   "outputs": [],
   "source": [
    "model2.compare_lr_test(model3)"
   ]
  },
  {
   "cell_type": "code",
   "execution_count": null,
   "metadata": {},
   "outputs": [],
   "source": [
    "model2.compare_f_test(model3)"
   ]
  },
  {
   "cell_type": "markdown",
   "metadata": {},
   "source": [
    "# Модель 4\n",
    "Попробуем оставить в модели 2 цвет кожи и семейное положение, чтобы добавить их взаимодействия с полом. Как и в модели 3, добавим взаимодействие пола с опытом работы, а состояние здоровья удалим."
   ]
  },
  {
   "cell_type": "code",
   "execution_count": null,
   "metadata": {},
   "outputs": [],
   "source": [
    "features.columns"
   ]
  },
  {
   "cell_type": "code",
   "execution_count": null,
   "metadata": {},
   "outputs": [],
   "source": [
    "bad_feats = ['goodhlth']\n",
    "add_feats = ['exper:female', 'black:female', 'married:female']\n",
    "formula4 = ' '.join(['log_wage ~', \n",
    "                    ' + '.join([f for f in features if f not in bad_feats] + add_feats)])\n",
    "print(formula4)"
   ]
  },
  {
   "cell_type": "code",
   "execution_count": null,
   "metadata": {},
   "outputs": [],
   "source": [
    "model4 = sm.OLS.from_formula(formula4, data=data2).fit()\n",
    "model4.summary()"
   ]
  },
  {
   "cell_type": "markdown",
   "metadata": {},
   "source": [
    "### Проверка гипотез по остаткам"
   ]
  },
  {
   "cell_type": "code",
   "execution_count": null,
   "metadata": {},
   "outputs": [],
   "source": [
    "print(st.shapiro(model4.resid))\n",
    "print(st.wilcoxon(model4.resid))"
   ]
  },
  {
   "cell_type": "code",
   "execution_count": null,
   "metadata": {},
   "outputs": [],
   "source": [
    "# _ = sns.pairplot(pd.concat([features[[ 'exper', 'educ', 'looks']], model4.resid],axis=1))\n",
    "_ = sns.pairplot(pd.DataFrame({\n",
    "    'exper': features['exper'], \n",
    "    'looks': looks,\n",
    "    'residuals': model4.resid\n",
    "}))"
   ]
  },
  {
   "cell_type": "code",
   "execution_count": null,
   "metadata": {},
   "outputs": [],
   "source": [
    "plt.figure(figsize=(16, 7))\n",
    "plt.subplot(121)\n",
    "_ = st.probplot(model4.resid, plot=plt)\n",
    "\n",
    "plt.subplot(122)\n",
    "_ = st.probplot(model3.resid, plot=plt)"
   ]
  },
  {
   "cell_type": "markdown",
   "metadata": {},
   "source": [
    "# Модель 5\n",
    "В предыдущей модели семейное положение незначимо; посмотрим, можно ли удалить его"
   ]
  },
  {
   "cell_type": "code",
   "execution_count": null,
   "metadata": {},
   "outputs": [],
   "source": [
    "features.columns"
   ]
  },
  {
   "cell_type": "code",
   "execution_count": null,
   "metadata": {},
   "outputs": [],
   "source": [
    "bad_feats = ['goodhlth', 'married']\n",
    "add_feats = ['exper:female', 'black:female', 'married:female']\n",
    "formula5 = ' '.join(['log_wage ~', \n",
    "                    ' + '.join([f for f in features if f not in bad_feats] + add_feats)])\n",
    "print(formula5)"
   ]
  },
  {
   "cell_type": "code",
   "execution_count": null,
   "metadata": {},
   "outputs": [],
   "source": [
    "model5 = sm.OLS.from_formula(formula5, data=data2).fit()\n",
    "model5.summary()"
   ]
  },
  {
   "cell_type": "markdown",
   "metadata": {},
   "source": [
    "### Проверка гипотез по остаткам"
   ]
  },
  {
   "cell_type": "code",
   "execution_count": null,
   "metadata": {},
   "outputs": [],
   "source": [
    "print(st.shapiro(model5.resid))\n",
    "print(st.wilcoxon(model5.resid))"
   ]
  },
  {
   "cell_type": "code",
   "execution_count": null,
   "metadata": {},
   "outputs": [],
   "source": [
    "print(st.shapiro(model4.resid))\n",
    "print(st.wilcoxon(model4.resid))"
   ]
  },
  {
   "cell_type": "code",
   "execution_count": null,
   "metadata": {},
   "outputs": [],
   "source": [
    "plt.figure(figsize=(16, 7))\n",
    "plt.subplot(121)\n",
    "_ = st.probplot(model4.resid, plot=plt)\n",
    "\n",
    "plt.subplot(122)\n",
    "_ = st.probplot(model5.resid, plot=plt)"
   ]
  },
  {
   "cell_type": "markdown",
   "metadata": {},
   "source": [
    "Стоит вернуться к модели 4"
   ]
  },
  {
   "cell_type": "markdown",
   "metadata": {},
   "source": [
    "# Расстояние Кука\n",
    "Посмотрим на влиятельные наблюдения: \n",
    "    "
   ]
  },
  {
   "cell_type": "code",
   "execution_count": null,
   "metadata": {},
   "outputs": [],
   "source": [
    "cook = model4.get_influence().summary_frame().loc[:,'cooks_d']"
   ]
  },
  {
   "cell_type": "code",
   "execution_count": null,
   "metadata": {},
   "outputs": [],
   "source": [
    "plt.scatter(data2['log_wage'], cook)\n",
    "plt.xlim((0,4))\n",
    "plt.ylim((-0.01, 0.05))"
   ]
  },
  {
   "cell_type": "markdown",
   "metadata": {},
   "source": [
    "Удалим наблюдения с расстоянием Кука больше 0.015 (порог выбран визуально) и перенастроим модель 4.\n",
    "\n",
    "Сравним коэффициенты новой модели и модели 4:"
   ]
  },
  {
   "cell_type": "code",
   "execution_count": null,
   "metadata": {},
   "outputs": [],
   "source": [
    "data3 = data2[cook < 0.015]\n",
    "data3.shape"
   ]
  },
  {
   "cell_type": "code",
   "execution_count": null,
   "metadata": {},
   "outputs": [],
   "source": [
    "model6 = sm.OLS.from_formula(formula4, data=data3).fit()\n",
    "model6.summary()"
   ]
  },
  {
   "cell_type": "code",
   "execution_count": null,
   "metadata": {},
   "outputs": [],
   "source": [
    "plt.figure(figsize=(16, 7))\n",
    "\n",
    "plt.subplot(121)\n",
    "plt.scatter(np.exp(model6.predict(data3)), data3['wage'])\n",
    "plt.xlabel('wage', fontsize=14)\n",
    "plt.ylabel('exp(predictions)', fontsize=14)\n",
    "\n",
    "plt.subplot(122)\n",
    "plt.scatter(model6.predict(data3), data3['log_wage'])\n",
    "plt.xlabel('log wage', fontsize=14)\n",
    "_ = plt.ylabel('predictions', fontsize=14)"
   ]
  },
  {
   "cell_type": "markdown",
   "metadata": {},
   "source": [
    "## Итого\n",
    "\n",
    "- Итоговая модель (№6) объясняет 43% вариации логарифма отклика\n",
    "- Коэффициент при `below_avg`: -0.13 => человек, привлекательность которого ниже среднего, получает зарплату на 13% ниже, в среднем ($p=0.001$, 95%-й доверительный интервал: \\[5,21\\]%)\n",
    "- Коэффициент при `above_avg`: -0.042 => человек, привлекательность которого выше среднего, примерно такую же, сколько и люди со средним уровнем привлекательности ($p =  0.884$, 95%-й доверительный интервал: \\[-6, 6\\]%), признак неинформативен"
   ]
  }
 ],
 "metadata": {
  "kernelspec": {
   "display_name": "Python 3.6.6 (pyenv)",
   "language": "python",
   "name": "pyenv3.6.6"
  },
  "language_info": {
   "codemirror_mode": {
    "name": "ipython",
    "version": 3
   },
   "file_extension": ".py",
   "mimetype": "text/x-python",
   "name": "python",
   "nbconvert_exporter": "python",
   "pygments_lexer": "ipython3",
   "version": "3.6.6"
  }
 },
 "nbformat": 4,
 "nbformat_minor": 4
}
