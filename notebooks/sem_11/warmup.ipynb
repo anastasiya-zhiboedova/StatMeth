{
 "cells": [
  {
   "cell_type": "markdown",
   "metadata": {},
   "source": [
    "# Синтетическая выборка"
   ]
  },
  {
   "cell_type": "markdown",
   "metadata": {},
   "source": [
    "## Импорты и начальные данные"
   ]
  },
  {
   "cell_type": "code",
   "execution_count": null,
   "metadata": {},
   "outputs": [],
   "source": [
    "import numpy as np\n",
    "import scipy.stats as st\n",
    "from statsmodels.stats.proportion import proportions_ztest"
   ]
  },
  {
   "cell_type": "code",
   "execution_count": null,
   "metadata": {},
   "outputs": [],
   "source": [
    "import matplotlib\n",
    "import matplotlib.pyplot as plt\n",
    "from IPython.display import set_matplotlib_formats\n",
    "%matplotlib inline\n",
    "set_matplotlib_formats('svg')"
   ]
  },
  {
   "cell_type": "markdown",
   "metadata": {},
   "source": [
    "### Параметры"
   ]
  },
  {
   "cell_type": "markdown",
   "metadata": {},
   "source": [
    "- $p_L$ - нижняя граница\n",
    "- $p_U$ - верхняя граница\n",
    "- $\\alpha$ - уровень значимости, допускаемая вероятность ошибки первого рода: отвергнуть верную $H_0$ (при $p \\le p_L$)\n",
    "- $\\beta$ - допускаемая вероятность ошибки второго рода: принять неверную $H_0$ (при $p \\ge p_U$)"
   ]
  },
  {
   "cell_type": "code",
   "execution_count": null,
   "metadata": {},
   "outputs": [],
   "source": [
    "pl = 0.45\n",
    "pu = 0.55\n",
    "alpha = beta = 0.05\n",
    "A = (1 - beta) / alpha\n",
    "B = beta / (1 - alpha)\n",
    "\n",
    "def a_m(m):\n",
    "    return (np.log(B) + m * np.log((1 - pl) / (1 - pu))) / (np.log(pu / pl) - np.log((1 - pu) / (1 - pl)))\n",
    "\n",
    "def r_m(m):\n",
    "    return (np.log(A) + m * np.log((1 - pl) / (1 - pu))) / (np.log(pu / pl) - np.log((1 - pu) / (1 -pl)))"
   ]
  },
  {
   "cell_type": "code",
   "execution_count": null,
   "metadata": {},
   "outputs": [],
   "source": [
    "plt.plot(range(100), [a_m(i) for i in range(100)], label='accept', color='red')\n",
    "plt.plot(range(100), [r_m(i) for i in range(100)], label='reject', color='green')\n",
    "plt.xlabel('m')\n",
    "plt.ylabel('$d_m$')\n",
    "plt.legend(loc='best')\n",
    "_ = plt.title('Regection and acceptance lines')"
   ]
  },
  {
   "cell_type": "markdown",
   "metadata": {},
   "source": [
    "### Z-критерий меток для доли (лекция 2: параметрические гипотезы) и последовательный анализ для проверки $p$"
   ]
  },
  {
   "cell_type": "markdown",
   "metadata": {},
   "source": [
    "Сравним результаты последовательного анализа и z-теста меток для доли"
   ]
  },
  {
   "cell_type": "markdown",
   "metadata": {},
   "source": [
    "Последовательный анализ:\n",
    "\n",
    "$H_0:\\ p \\le p_L$ \n",
    "\n",
    "$H_1:\\ p \\ge p_U$"
   ]
  },
  {
   "cell_type": "markdown",
   "metadata": {},
   "source": [
    "Критерий меток доли (левосторонняя альтернатива):\n",
    "\n",
    "$H_0:\\ p = p_0$ \n",
    "\n",
    "$H_1:\\ p < p_0$"
   ]
  },
  {
   "cell_type": "markdown",
   "metadata": {},
   "source": [
    "#### Генерация данных ($Ber(p)$) и проверка z-критерием меток"
   ]
  },
  {
   "cell_type": "code",
   "execution_count": null,
   "metadata": {},
   "outputs": [],
   "source": [
    "def generate_and_test(real_p, test_func, maxm=500, seed=42):\n",
    "    \"\"\"\n",
    "    Генерация выборки из бернуллиевских величин, генерация останавливается, когда при последовательном анализе мы отвергаем\n",
    "    или принимаем H_0 и одновременно то же делает z-test\n",
    "    :param real_p - p\n",
    "    :param test_func - функция для проверки z-теста, возвращает p-value\n",
    "    :param maxm - максимальный размер выборки\n",
    "    :return полученная выборка, массив p-value, номер первой итерации, где график вышел за пределы полосы\n",
    "    \"\"\"\n",
    "    rs = np.random.RandomState(seed)\n",
    "    sample = []\n",
    "    pvals = []\n",
    "    m = 0\n",
    "    test_iter_num = -1 # номер итерации, где отвергается гипотеза по z-тесту\n",
    "    iter_num = -1 # номер итерации, где мы выходим за пределы области безразличия (между двумя accept и reject)\n",
    "    while m < maxm and (iter_num < 0 or test_iter_num < 0):\n",
    "        m += 1\n",
    "        x = rs.uniform() <= real_p\n",
    "        sample += [x]\n",
    "        pvals.append(test_func(sample))\n",
    "        if iter_num < 0 and (np.sum(sample) <= a_m(m) or np.sum(sample) >= r_m(m)):\n",
    "            iter_num = m\n",
    "            \n",
    "        if pvals[-1] < 0.05:\n",
    "            test_iter_num = m\n",
    "\n",
    "    return sample, pvals, iter_num"
   ]
  },
  {
   "cell_type": "code",
   "execution_count": null,
   "metadata": {},
   "outputs": [],
   "source": [
    "def plot_seq_ztest_results(sample, bin_test):\n",
    "    max_l = len(sample)\n",
    "    fig = plt.figure(figsize=(15, 5))\n",
    "    ax1 = fig.add_subplot(121)\n",
    "    ax1.plot(np.cumsum(sample), label='actual d_m')\n",
    "    ax1.plot(range(max_l), [a_m(i) for i in range(max_l)], label='accept', color='green')\n",
    "    ax1.plot(range(max_l), [r_m(i) for i in range(max_l)], label='reject', color='red')\n",
    "    ax1.legend(loc='best')\n",
    "    ax1.set_xlabel('m')\n",
    "    ax1.set_ylabel('$d_m$')\n",
    "    ax1.set_title('Sequential analysis')\n",
    "\n",
    "    ax2 = fig.add_subplot(122)\n",
    "    ax2.plot(bin_test)\n",
    "    ax2.set_xlabel('m')\n",
    "    ax2.set_ylabel('p-value')\n",
    "    ax2.set_title('Z-tests')"
   ]
  },
  {
   "cell_type": "markdown",
   "metadata": {},
   "source": [
    "#### $p=0.4$"
   ]
  },
  {
   "cell_type": "code",
   "execution_count": null,
   "metadata": {},
   "outputs": [],
   "source": [
    "sample, bin_test, _ = generate_and_test(0.4, test_func=lambda x: proportions_ztest(np.sum(x), len(x), 0.5, 'smaller')[1])\n",
    "plot_seq_ztest_results(sample, bin_test)"
   ]
  },
  {
   "cell_type": "markdown",
   "metadata": {},
   "source": [
    "#### $p=0.6$"
   ]
  },
  {
   "cell_type": "code",
   "execution_count": null,
   "metadata": {},
   "outputs": [],
   "source": [
    "sample, bin_test, _ = generate_and_test(0.6, test_func=lambda x: proportions_ztest(np.sum(x), len(x), 0.5, 'smaller')[1])\n",
    "plot_seq_ztest_results(sample, bin_test)"
   ]
  },
  {
   "cell_type": "markdown",
   "metadata": {},
   "source": [
    "#### $p=0.5$"
   ]
  },
  {
   "cell_type": "code",
   "execution_count": null,
   "metadata": {},
   "outputs": [],
   "source": [
    "sample, bin_test, _ = generate_and_test(0.5, test_func=lambda x: proportions_ztest(np.sum(x), len(x), 0.5, 'smaller')[1])\n",
    "plot_seq_ztest_results(sample, bin_test)"
   ]
  },
  {
   "cell_type": "markdown",
   "metadata": {},
   "source": [
    "Пройдемся по сидам и посмотрим максимально возможное число объектов"
   ]
  },
  {
   "cell_type": "code",
   "execution_count": null,
   "metadata": {},
   "outputs": [],
   "source": [
    "max_l = 0\n",
    "bin_tests = []\n",
    "iter_nums = []\n",
    "for i in range(30):\n",
    "    sample_, bin_test, iter_num = generate_and_test(0.4, seed=i, test_func=lambda x: proportions_ztest(np.sum(x), len(x), 0.5, 'smaller' )[1])\n",
    "    max_l_ = len(sample_)\n",
    "    max_l = max(max_l_, max_l)\n",
    "    iter_nums.append(iter_num)\n",
    "    bin_tests.append(bin_test)\n",
    "print(max_l)\n",
    "\n",
    "plt.figure(figsize=(15, 5))\n",
    "for t in bin_tests:\n",
    "    plt.plot(t)        \n",
    "plt.xlabel('m')\n",
    "plt.ylabel('p-value', fontdict={'size': 15})"
   ]
  },
  {
   "cell_type": "markdown",
   "metadata": {},
   "source": [
    "Разница в размерах итоговых выборок"
   ]
  },
  {
   "cell_type": "code",
   "execution_count": null,
   "metadata": {},
   "outputs": [],
   "source": [
    "min_num = []\n",
    "for p in bin_tests:\n",
    "    min_num.append(np.where(np.array(p) <= 0.05)[0][0])\n",
    "min_num = np.array(min_num)\n",
    "plt.hist(min_num-np.array(iter_nums), bins=30)"
   ]
  },
  {
   "cell_type": "markdown",
   "metadata": {},
   "source": [
    "### Последовательный тест Вальда из коробки"
   ]
  },
  {
   "cell_type": "markdown",
   "metadata": {},
   "source": [
    "- $h_0 == H_0$ \n",
    "- $h_1 == H_1$"
   ]
  },
  {
   "cell_type": "code",
   "execution_count": null,
   "metadata": {},
   "outputs": [],
   "source": [
    "import sprt\n",
    "rs = np.random.RandomState(42)\n",
    "values = rs.uniform(size=500) <= 0.5\n",
    "test = sprt.SPRTBinomial(alpha=alpha, beta=beta, h0=0.4, h1=0.5, values=values)\n",
    "test.plot()"
   ]
  }
 ],
 "metadata": {
  "kernelspec": {
   "display_name": "Python 3.6.6 (pyenv)",
   "language": "python",
   "name": "pyenv3.6.6"
  },
  "language_info": {
   "codemirror_mode": {
    "name": "ipython",
    "version": 3
   },
   "file_extension": ".py",
   "mimetype": "text/x-python",
   "name": "python",
   "nbconvert_exporter": "python",
   "pygments_lexer": "ipython3",
   "version": "3.6.6"
  }
 },
 "nbformat": 4,
 "nbformat_minor": 4
}
