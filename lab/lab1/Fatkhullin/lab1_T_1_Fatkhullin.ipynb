{
 "cells": [
  {
   "cell_type": "code",
   "execution_count": 1,
   "metadata": {},
   "outputs": [],
   "source": [
    "from statsmodels.stats.diagnostic import lilliefors\n",
    "from statsmodels.stats.stattools import jarque_bera\n",
    "import numpy as np\n",
    "from matplotlib import pyplot as plt\n",
    "from scipy.stats import truncnorm\n",
    "from scipy import stats\n",
    "import pandas as pd\n",
    "from statsmodels.graphics.gofplots import qqplot\n",
    "import plotly.express as px\n",
    "import scipy.stats as st\n"
   ]
  },
  {
   "cell_type": "markdown",
   "metadata": {},
   "source": [
    "# 1.1"
   ]
  },
  {
   "cell_type": "code",
   "execution_count": 2,
   "metadata": {},
   "outputs": [],
   "source": [
    "mu = 0\n",
    "sigma = 1\n",
    "deg_freedom = 5\n",
    "trials = 1000\n",
    "sample_size = 500"
   ]
  },
  {
   "cell_type": "code",
   "execution_count": 3,
   "metadata": {},
   "outputs": [],
   "source": [
    "normal = np.random.normal(mu, sigma, sample_size)\n",
    "laplace = np.random.laplace(mu, sigma, sample_size)\n",
    "student = np.random.standard_t(deg_freedom, size=sample_size)\n",
    "trunc_norm = truncnorm.rvs(-2, 2, size=sample_size)"
   ]
  },
  {
   "cell_type": "markdown",
   "metadata": {},
   "source": [
    "### Lilliefors"
   ]
  },
  {
   "cell_type": "code",
   "execution_count": 4,
   "metadata": {},
   "outputs": [],
   "source": [
    "power_lilliefors = {}"
   ]
  },
  {
   "cell_type": "code",
   "execution_count": 5,
   "metadata": {},
   "outputs": [
    {
     "data": {
      "text/plain": [
       "1.0"
      ]
     },
     "execution_count": 5,
     "metadata": {},
     "output_type": "execute_result"
    }
   ],
   "source": [
    "reject = 0\n",
    "for i in range(trials):\n",
    "    laplace = np.random.laplace(mu, sigma, size=sample_size)\n",
    "    _, p = lilliefors(laplace)\n",
    "    if p < 0.05:\n",
    "        reject += 1\n",
    "power_lilliefors['laplace'] = reject/trials\n",
    "power_lilliefors['laplace']"
   ]
  },
  {
   "cell_type": "code",
   "execution_count": 6,
   "metadata": {},
   "outputs": [
    {
     "data": {
      "text/plain": [
       "0.908"
      ]
     },
     "execution_count": 6,
     "metadata": {},
     "output_type": "execute_result"
    }
   ],
   "source": [
    "reject = 0\n",
    "for i in range(trials):\n",
    "    student = np.random.standard_t(deg_freedom, size=sample_size)\n",
    "    _, p = lilliefors(student)\n",
    "    if p < 0.05:\n",
    "        reject += 1\n",
    "power_lilliefors['student'] = reject/trials\n",
    "power_lilliefors['student']"
   ]
  },
  {
   "cell_type": "code",
   "execution_count": 7,
   "metadata": {},
   "outputs": [
    {
     "data": {
      "text/plain": [
       "0.209"
      ]
     },
     "execution_count": 7,
     "metadata": {},
     "output_type": "execute_result"
    }
   ],
   "source": [
    "reject = 0\n",
    "for i in range(trials):\n",
    "    trunc_norm = truncnorm.rvs(-2, 2, size=sample_size)\n",
    "    _, p = lilliefors(trunc_norm)\n",
    "    if p < 0.05:\n",
    "        reject += 1\n",
    "power_lilliefors['trunc_norm'] = reject/trials\n",
    "power_lilliefors['trunc_norm']"
   ]
  },
  {
   "cell_type": "code",
   "execution_count": 8,
   "metadata": {},
   "outputs": [
    {
     "data": {
      "text/plain": [
       "0.054"
      ]
     },
     "execution_count": 8,
     "metadata": {},
     "output_type": "execute_result"
    }
   ],
   "source": [
    "reject = 0\n",
    "for i in range(trials):\n",
    "    normal = np.random.normal(mu, sigma, sample_size)\n",
    "    _, p = lilliefors(normal)\n",
    "    if p < 0.05:\n",
    "        reject += 1\n",
    "power_lilliefors['normal'] = reject/trials\n",
    "power_lilliefors['conservative'] = reject/trials <= 0.05\n",
    "power_lilliefors['normal']"
   ]
  },
  {
   "cell_type": "markdown",
   "metadata": {},
   "source": [
    "### Jarke-Bera"
   ]
  },
  {
   "cell_type": "code",
   "execution_count": 9,
   "metadata": {},
   "outputs": [],
   "source": [
    "power_jarque_bera = {}"
   ]
  },
  {
   "cell_type": "code",
   "execution_count": 10,
   "metadata": {},
   "outputs": [
    {
     "data": {
      "text/plain": [
       "1.0"
      ]
     },
     "execution_count": 10,
     "metadata": {},
     "output_type": "execute_result"
    }
   ],
   "source": [
    "reject = 0\n",
    "for i in range(trials):\n",
    "    laplace = np.random.laplace(10, size=sample_size)\n",
    "    _, p, _, _ = jarque_bera(laplace)\n",
    "    if p < 0.05:\n",
    "        reject += 1\n",
    "power_jarque_bera['laplace'] = reject/trials\n",
    "power_jarque_bera['laplace']"
   ]
  },
  {
   "cell_type": "code",
   "execution_count": 11,
   "metadata": {},
   "outputs": [
    {
     "data": {
      "text/plain": [
       "0.993"
      ]
     },
     "execution_count": 11,
     "metadata": {},
     "output_type": "execute_result"
    }
   ],
   "source": [
    "reject = 0\n",
    "for i in range(trials):\n",
    "    student = np.random.standard_t(deg_freedom, size=sample_size)\n",
    "    _, p, _, _ = jarque_bera(student)\n",
    "    if p < 0.05:\n",
    "        reject += 1\n",
    "power_jarque_bera['student'] = reject/trials\n",
    "power_jarque_bera['student']"
   ]
  },
  {
   "cell_type": "code",
   "execution_count": 12,
   "metadata": {},
   "outputs": [
    {
     "data": {
      "text/plain": [
       "0.894"
      ]
     },
     "execution_count": 12,
     "metadata": {},
     "output_type": "execute_result"
    }
   ],
   "source": [
    "reject = 0\n",
    "for i in range(trials):\n",
    "    trunc_norm = truncnorm.rvs(-2, 2, size=sample_size)\n",
    "    _, p, _, _ = jarque_bera(trunc_norm)\n",
    "    if p < 0.05:\n",
    "        reject += 1\n",
    "power_jarque_bera['trunc_norm'] = reject/trials\n",
    "power_jarque_bera['trunc_norm']"
   ]
  },
  {
   "cell_type": "code",
   "execution_count": 13,
   "metadata": {},
   "outputs": [
    {
     "data": {
      "text/plain": [
       "0.047"
      ]
     },
     "execution_count": 13,
     "metadata": {},
     "output_type": "execute_result"
    }
   ],
   "source": [
    "reject = 0\n",
    "for i in range(trials):\n",
    "    normal = np.random.normal(mu, sigma, sample_size)\n",
    "    _, p, _, _ = jarque_bera(normal)\n",
    "    if p < 0.05:\n",
    "        reject += 1\n",
    "power_jarque_bera['normal'] = reject/trials\n",
    "power_jarque_bera['conservative'] = reject/trials <= 0.05\n",
    "power_jarque_bera['normal']"
   ]
  },
  {
   "cell_type": "markdown",
   "metadata": {},
   "source": [
    "### Shapiro"
   ]
  },
  {
   "cell_type": "code",
   "execution_count": 14,
   "metadata": {},
   "outputs": [],
   "source": [
    "power_shapiro = {}"
   ]
  },
  {
   "cell_type": "code",
   "execution_count": 15,
   "metadata": {},
   "outputs": [
    {
     "data": {
      "text/plain": [
       "1.0"
      ]
     },
     "execution_count": 15,
     "metadata": {},
     "output_type": "execute_result"
    }
   ],
   "source": [
    "reject = 0\n",
    "for i in range(trials):\n",
    "    laplace = np.random.laplace(mu, sigma, size=sample_size)\n",
    "    _, p = stats.shapiro(laplace)\n",
    "    if p < 0.05:\n",
    "        reject += 1\n",
    "power_shapiro['laplace'] = reject/trials\n",
    "power_shapiro['laplace']"
   ]
  },
  {
   "cell_type": "code",
   "execution_count": 16,
   "metadata": {},
   "outputs": [
    {
     "data": {
      "text/plain": [
       "0.986"
      ]
     },
     "execution_count": 16,
     "metadata": {},
     "output_type": "execute_result"
    }
   ],
   "source": [
    "reject = 0\n",
    "for i in range(trials):\n",
    "    student = np.random.standard_t(deg_freedom, size=sample_size)\n",
    "    _, p = stats.shapiro(student)\n",
    "    if p < 0.05:\n",
    "        reject += 1\n",
    "power_shapiro['student'] = reject/trials\n",
    "power_shapiro['student']"
   ]
  },
  {
   "cell_type": "code",
   "execution_count": 17,
   "metadata": {},
   "outputs": [
    {
     "data": {
      "text/plain": [
       "0.997"
      ]
     },
     "execution_count": 17,
     "metadata": {},
     "output_type": "execute_result"
    }
   ],
   "source": [
    "reject = 0\n",
    "for i in range(trials):\n",
    "    trunc_norm = truncnorm.rvs(-2, 2, size=sample_size)\n",
    "    _, p = stats.shapiro(trunc_norm)\n",
    "    if p < 0.05:\n",
    "        reject += 1\n",
    "power_shapiro['trunc_norm'] = reject/trials\n",
    "power_shapiro['trunc_norm']"
   ]
  },
  {
   "cell_type": "code",
   "execution_count": 18,
   "metadata": {},
   "outputs": [
    {
     "data": {
      "text/plain": [
       "0.064"
      ]
     },
     "execution_count": 18,
     "metadata": {},
     "output_type": "execute_result"
    }
   ],
   "source": [
    "reject = 0\n",
    "for i in range(trials):\n",
    "    normal = np.random.normal(mu, sigma, sample_size)\n",
    "    _, p = stats.shapiro(normal)\n",
    "    if p < 0.05:\n",
    "        reject += 1\n",
    "power_shapiro['normal'] = reject/trials\n",
    "power_shapiro['conservative'] = reject/trials <= 0.05\n",
    "power_shapiro['normal']"
   ]
  },
  {
   "cell_type": "markdown",
   "metadata": {},
   "source": [
    "В таблице ниже представлены мощности для выборок из распределений Лапласа, Стьюдента и Усеченного нормального, а также консеравтивность для нормального при размере выборки = 500. Мы проверяем консервативность для нормального, так как все три критерия это критерии проверки на нормальность."
   ]
  },
  {
   "cell_type": "code",
   "execution_count": 19,
   "metadata": {},
   "outputs": [
    {
     "data": {
      "text/html": [
       "<div>\n",
       "<style scoped>\n",
       "    .dataframe tbody tr th:only-of-type {\n",
       "        vertical-align: middle;\n",
       "    }\n",
       "\n",
       "    .dataframe tbody tr th {\n",
       "        vertical-align: top;\n",
       "    }\n",
       "\n",
       "    .dataframe thead th {\n",
       "        text-align: right;\n",
       "    }\n",
       "</style>\n",
       "<table border=\"1\" class=\"dataframe\">\n",
       "  <thead>\n",
       "    <tr style=\"text-align: right;\">\n",
       "      <th></th>\n",
       "      <th>lilliefors</th>\n",
       "      <th>jarque_bera</th>\n",
       "      <th>shapiro</th>\n",
       "    </tr>\n",
       "  </thead>\n",
       "  <tbody>\n",
       "    <tr>\n",
       "      <td>laplace</td>\n",
       "      <td>1</td>\n",
       "      <td>1</td>\n",
       "      <td>1</td>\n",
       "    </tr>\n",
       "    <tr>\n",
       "      <td>student</td>\n",
       "      <td>0.908</td>\n",
       "      <td>0.993</td>\n",
       "      <td>0.986</td>\n",
       "    </tr>\n",
       "    <tr>\n",
       "      <td>trunc_norm</td>\n",
       "      <td>0.209</td>\n",
       "      <td>0.894</td>\n",
       "      <td>0.997</td>\n",
       "    </tr>\n",
       "    <tr>\n",
       "      <td>normal</td>\n",
       "      <td>0.054</td>\n",
       "      <td>0.047</td>\n",
       "      <td>0.064</td>\n",
       "    </tr>\n",
       "    <tr>\n",
       "      <td>conservative</td>\n",
       "      <td>False</td>\n",
       "      <td>True</td>\n",
       "      <td>False</td>\n",
       "    </tr>\n",
       "  </tbody>\n",
       "</table>\n",
       "</div>"
      ],
      "text/plain": [
       "             lilliefors jarque_bera shapiro\n",
       "laplace               1           1       1\n",
       "student           0.908       0.993   0.986\n",
       "trunc_norm        0.209       0.894   0.997\n",
       "normal            0.054       0.047   0.064\n",
       "conservative      False        True   False"
      ]
     },
     "execution_count": 19,
     "metadata": {},
     "output_type": "execute_result"
    }
   ],
   "source": [
    "pd.DataFrame(data={'lilliefors':power_lilliefors, 'jarque_bera': power_jarque_bera, 'shapiro': power_shapiro})"
   ]
  },
  {
   "cell_type": "markdown",
   "metadata": {},
   "source": [
    "Посмотрим как меняется консервативность критериев в зависимости от размера выборки."
   ]
  },
  {
   "cell_type": "code",
   "execution_count": 20,
   "metadata": {},
   "outputs": [
    {
     "name": "stderr",
     "output_type": "stream",
     "text": [
      "/usr/local/lib/python3.7/site-packages/scipy/stats/morestats.py:1660: UserWarning:\n",
      "\n",
      "p-value may not be accurate for N > 5000.\n",
      "\n"
     ]
    }
   ],
   "source": [
    "plt.figure(figsize=(12, 8))\n",
    "plt.plot(Ss, conserv_JB, label = 'jarque_bera')\n",
    "plt.plot(Ss, conserv_Shap, label = 'shapiro')\n",
    "plt.plot(Ss, conserv_Lil, label = 'lilliefors')\n",
    "plt.axhline(0.05, color = 'red')\n",
    "plt.grid()\n",
    "plt.legend()conserv_JB = []\n",
    "conserv_Shap = []\n",
    "conserv_Lil = []\n",
    "Ss = np.arange(500, 15000, 500)\n",
    "for ss in Ss:\n",
    "    reject_JB, reject_Shap, reject_Lil = 0, 0, 0\n",
    "    for i in range(trials):\n",
    "        normal = np.random.normal(mu, sigma, ss)\n",
    "        _, p_JB, _, _ = jarque_bera(normal)\n",
    "        _, p_Shap = stats.shapiro(normal)\n",
    "        _, p_Lil = st.kstest(normal, 'norm')\n",
    "        if p_JB < 0.05: reject_JB += 1\n",
    "        if p_Shap < 0.05: reject_Shap += 1\n",
    "        if p_Lil < 0.05: reject_Lil += 1\n",
    "    conserv_JB.append(reject_JB/trials)\n",
    "    conserv_Shap.append(reject_Shap/trials)\n",
    "    conserv_Lil.append(reject_Lil/trials)"
   ]
  },
  {
   "cell_type": "code",
   "execution_count": 77,
   "metadata": {
    "scrolled": false
   },
   "outputs": [
    {
     "data": {
      "text/plain": [
       "<matplotlib.legend.Legend at 0x13431fe10>"
      ]
     },
     "execution_count": 77,
     "metadata": {},
     "output_type": "execute_result"
    },
    {
     "data": {
      "image/png": "[encoded data removed]",
      "text/plain": [
       "<Figure size 864x576 with 1 Axes>"
      ]
     },
     "metadata": {
      "needs_background": "light"
     },
     "output_type": "display_data"
    }
   ],
   "source": [
    "plt.figure(figsize=(12, 8))\n",
    "plt.plot(Ss, conserv_JB, label = 'jarque_bera')\n",
    "plt.plot(Ss, conserv_Shap, label = 'shapiro')\n",
    "plt.plot(Ss, conserv_Lil, label = 'lilliefors')\n",
    "plt.axhline(0.05, color = 'red')\n",
    "plt.grid()\n",
    "plt.legend()"
   ]
  },
  {
   "cell_type": "markdown",
   "metadata": {},
   "source": [
    "Критерий Шапиро-Уилка почти всегда консервативен при размерах выбрки больше 3000 и ведет себя в целом лучше всего среди остальных: $p_val$ для него более менее монотонно уменьшается с увеличением размера выборки. Критерий Лиллиефорса показывает себя лучше при размерах выборки меньше 2000.\n"
   ]
  },
  {
   "cell_type": "code",
   "execution_count": null,
   "metadata": {},
   "outputs": [],
   "source": []
  }
 ],
 "metadata": {
  "kernelspec": {
   "display_name": "Python 3",
   "language": "python",
   "name": "python3"
  },
  "language_info": {
   "codemirror_mode": {
    "name": "ipython",
    "version": 3
   },
   "file_extension": ".py",
   "mimetype": "text/x-python",
   "name": "python",
   "nbconvert_exporter": "python",
   "pygments_lexer": "ipython3",
   "version": "3.7.4"
  }
 },
 "nbformat": 4,
 "nbformat_minor": 2
}
